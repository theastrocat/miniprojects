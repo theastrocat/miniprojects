{
 "cells": [
  {
   "cell_type": "code",
   "execution_count": 27,
   "metadata": {
    "collapsed": false
   },
   "outputs": [],
   "source": [
    "from nltk.corpus import words\n",
    "word_list = words.words()"
   ]
  },
  {
   "cell_type": "markdown",
   "metadata": {},
   "source": [
    "This is an attempt to look at the differences between two words based off of the keyboard layout of your computer. It uses graph theory to look at the shortest path between two characters on your keyboard.\n",
    "\n",
    "**key_graph** : A dictionary of keyboard characters, where the values are lists of the neighbors.\n",
    "\n",
    "**breadth_first** : A simple breadth first search algorithm to find the shortest path between characters in key_graph.\n",
    "\n",
    "**find_difference** : Breaks words/word segments up into single characters then passes them into the breadth first algorithm and then finds legth of the shortest path, that path is the character's difference 'score'. The scores are summed for the entire word and divided by the length of the word to give a word/segment difference score.\n",
    "\n",
    "**compare_words** : Compares the differences between the lengths of the two words, if they are different, passes them into the `find_differences` function by shortest word chunk of the longer word. eg: `compare_words(\"cat\", \"course\")` passes `(\"cat\", \"cou\")` ,  `(\"cat\", \"our\")`, `(\"cat\", \"urs\")`, and `(\"cat\", \"rse\")` into `find_differences`. Then finds the best scoring segment, then adds a penalty of $\\frac{|len(w1) - len(w2)|}{len(w1)}$ to the lowest score."
   ]
  },
  {
   "cell_type": "code",
   "execution_count": 1,
   "metadata": {
    "collapsed": false
   },
   "outputs": [],
   "source": [
    "key_graph = {\"q\" : [\"w\", \"a\"],\n",
    "             \"w\" : [\"q\", \"a\", \"s\", \"e\"],\n",
    "             \"e\" : [\"w\", \"s\", \"d\", \"r\"],\n",
    "             \"r\" : [\"e\", \"d\", \"f\", \"t\"],\n",
    "             \"t\" : [\"r\", \"f\", \"g\", \"y\"],\n",
    "             \"y\" : [\"t\", \"g\", \"h\", \"u\"],\n",
    "             \"u\" : [\"y\", \"h\", \"j\", \"i\"],\n",
    "             \"i\" : [\"u\", \"j\", \"k\", \"o\"],\n",
    "             \"o\" : [\"i\", \"k\", \"l\", \"p\"],\n",
    "             \"p\" : [\"o\", \"l\"],\n",
    "             \"a\" : [\"q\", \"w\", \"s\", \"z\"],\n",
    "             \"s\" : [\"a\", \"w\", \"e\", \"d\", \"x\", \"z\"],\n",
    "             \"d\" : [\"s\", \"e\", \"r\", \"f\", \"c\", \"x\"],\n",
    "             \"f\" : [\"d\", \"r\", \"t\", \"g\", \"v\", \"c\"],\n",
    "             \"g\" : [\"f\", \"t\", \"y\", \"h\", \"b\", \"v\"],\n",
    "             \"h\" : [\"g\", \"y\", \"u\", \"j\", \"n\", \"b\"],\n",
    "             \"j\" : [\"h\", \"u\", \"i\", \"k\", \"m\", \"n\"],\n",
    "             \"k\" : [\"j\", \"i\", \"o\", \"l\", \"m\"],\n",
    "             \"l\" : [\"k\", \"o\", \"p\"],\n",
    "             \"z\" : [\"a\", \"s\", \"x\"],\n",
    "             \"x\" : [\"z\", \"s\", \"d\", \"c\"],\n",
    "             \"c\" : [\"x\", \"d\", \"f\", \"v\"],\n",
    "             \"v\" : [\"c\", \"f\", \"g\", \"b\"],\n",
    "             \"b\" : [\"v\", \"g\", \"h\", \"n\"],\n",
    "             \"n\" : [\"b\", \"h\", \"j\", \"m\"],\n",
    "             \"m\" : [\"n\", \"j\", \"k\"]}"
   ]
  },
  {
   "cell_type": "code",
   "execution_count": 2,
   "metadata": {
    "collapsed": true
   },
   "outputs": [],
   "source": [
    "def breadth_first(graph,start, end):\n",
    "    \"\"\"\n",
    "    Breadth First Search Algorithm.\n",
    "    Returns shortest path.\n",
    "    -------------------------------------\n",
    "    Inputs:\n",
    "        graph : Dictionary of connecting nodes\n",
    "        start : Starting point on the graph\n",
    "        end   : Ending point on the graph\n",
    "    Outputs:\n",
    "        path  : List of shortest path\n",
    "    \"\"\"\n",
    "    queue = []\n",
    "    queue.append([start])\n",
    "    while queue:\n",
    "        path = queue.pop(0)\n",
    "        node = path[-1]\n",
    "        if node == end:\n",
    "            return path\n",
    "        for adjacent in graph.get(node, []):\n",
    "            new_path = list(path)\n",
    "            new_path.append(adjacent)\n",
    "            queue.append(new_path)"
   ]
  },
  {
   "cell_type": "code",
   "execution_count": 3,
   "metadata": {
    "collapsed": true
   },
   "outputs": [],
   "source": [
    "def find_difference(seg1, seg2):\n",
    "    letter_score = []\n",
    "    for c1,c2 in zip(seg1, seg2):\n",
    "        letter_score.append(float(len(breadth_first(key_graph, c1, c2)) - 1))\n",
    "    return sum(letter_score)/len(letter_score)"
   ]
  },
  {
   "cell_type": "code",
   "execution_count": 4,
   "metadata": {
    "collapsed": false
   },
   "outputs": [],
   "source": [
    "def compare_words(word1, word2):\n",
    "    seg_scores = []\n",
    "    if len(word1) >= len(word2):\n",
    "        for i in range(0, len(word1) - len(word2) + 1):\n",
    "            seg_scores.append(find_difference(word1[i:i+len(word2)], word2))\n",
    "    else:\n",
    "        for i in range(0, len(word2) - len(word1) + 1):\n",
    "            seg_scores.append(find_difference(word1[i:i+len(word2)], word2))\n",
    "    return round(min(seg_scores) + abs(len(word1) - len(word2))/float(len(word1)),2)"
   ]
  },
  {
   "cell_type": "code",
   "execution_count": 5,
   "metadata": {
    "collapsed": false
   },
   "outputs": [
    {
     "data": {
      "text/plain": [
       "0.43"
      ]
     },
     "execution_count": 5,
     "metadata": {},
     "output_type": "execute_result"
    }
   ],
   "source": [
    "compare_words(\"cheeses\", \"chesssss\")"
   ]
  }
 ],
 "metadata": {
  "kernelspec": {
   "display_name": "Python 2",
   "language": "python",
   "name": "python2"
  },
  "language_info": {
   "codemirror_mode": {
    "name": "ipython",
    "version": 2
   },
   "file_extension": ".py",
   "mimetype": "text/x-python",
   "name": "python",
   "nbconvert_exporter": "python",
   "pygments_lexer": "ipython2",
   "version": "2.7.13"
  }
 },
 "nbformat": 4,
 "nbformat_minor": 2
}
